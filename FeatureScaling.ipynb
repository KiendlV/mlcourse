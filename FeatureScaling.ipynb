{
 "cells": [
  {
   "cell_type": "code",
   "execution_count": 1,
   "metadata": {},
   "outputs": [],
   "source": [
    "import numpy as np"
   ]
  },
  {
   "cell_type": "code",
   "execution_count": 2,
   "metadata": {},
   "outputs": [],
   "source": [
    "x = np.arange(500,1000)"
   ]
  },
  {
   "cell_type": "code",
   "execution_count": 3,
   "metadata": {},
   "outputs": [],
   "source": [
    "x_mean = np.mean(x)"
   ]
  },
  {
   "cell_type": "code",
   "execution_count": 11,
   "metadata": {},
   "outputs": [
    {
     "data": {
      "text/plain": [
       "array([-249.5, -248.5, -247.5, -246.5, -245.5, -244.5, -243.5, -242.5,\n",
       "       -241.5, -240.5, -239.5, -238.5, -237.5, -236.5, -235.5, -234.5,\n",
       "       -233.5, -232.5, -231.5, -230.5, -229.5, -228.5, -227.5, -226.5,\n",
       "       -225.5, -224.5, -223.5, -222.5, -221.5, -220.5, -219.5, -218.5,\n",
       "       -217.5, -216.5, -215.5, -214.5, -213.5, -212.5, -211.5, -210.5,\n",
       "       -209.5, -208.5, -207.5, -206.5, -205.5, -204.5, -203.5, -202.5,\n",
       "       -201.5, -200.5, -199.5, -198.5, -197.5, -196.5, -195.5, -194.5,\n",
       "       -193.5, -192.5, -191.5, -190.5, -189.5, -188.5, -187.5, -186.5,\n",
       "       -185.5, -184.5, -183.5, -182.5, -181.5, -180.5, -179.5, -178.5,\n",
       "       -177.5, -176.5, -175.5, -174.5, -173.5, -172.5, -171.5, -170.5,\n",
       "       -169.5, -168.5, -167.5, -166.5, -165.5, -164.5, -163.5, -162.5,\n",
       "       -161.5, -160.5, -159.5, -158.5, -157.5, -156.5, -155.5, -154.5,\n",
       "       -153.5, -152.5, -151.5, -150.5, -149.5, -148.5, -147.5, -146.5,\n",
       "       -145.5, -144.5, -143.5, -142.5, -141.5, -140.5, -139.5, -138.5,\n",
       "       -137.5, -136.5, -135.5, -134.5, -133.5, -132.5, -131.5, -130.5,\n",
       "       -129.5, -128.5, -127.5, -126.5, -125.5, -124.5, -123.5, -122.5,\n",
       "       -121.5, -120.5, -119.5, -118.5, -117.5, -116.5, -115.5, -114.5,\n",
       "       -113.5, -112.5, -111.5, -110.5, -109.5, -108.5, -107.5, -106.5,\n",
       "       -105.5, -104.5, -103.5, -102.5, -101.5, -100.5,  -99.5,  -98.5,\n",
       "        -97.5,  -96.5,  -95.5,  -94.5,  -93.5,  -92.5,  -91.5,  -90.5,\n",
       "        -89.5,  -88.5,  -87.5,  -86.5,  -85.5,  -84.5,  -83.5,  -82.5,\n",
       "        -81.5,  -80.5,  -79.5,  -78.5,  -77.5,  -76.5,  -75.5,  -74.5,\n",
       "        -73.5,  -72.5,  -71.5,  -70.5,  -69.5,  -68.5,  -67.5,  -66.5,\n",
       "        -65.5,  -64.5,  -63.5,  -62.5,  -61.5,  -60.5,  -59.5,  -58.5,\n",
       "        -57.5,  -56.5,  -55.5,  -54.5,  -53.5,  -52.5,  -51.5,  -50.5,\n",
       "        -49.5,  -48.5,  -47.5,  -46.5,  -45.5,  -44.5,  -43.5,  -42.5,\n",
       "        -41.5,  -40.5,  -39.5,  -38.5,  -37.5,  -36.5,  -35.5,  -34.5,\n",
       "        -33.5,  -32.5,  -31.5,  -30.5,  -29.5,  -28.5,  -27.5,  -26.5,\n",
       "        -25.5,  -24.5,  -23.5,  -22.5,  -21.5,  -20.5,  -19.5,  -18.5,\n",
       "        -17.5,  -16.5,  -15.5,  -14.5,  -13.5,  -12.5,  -11.5,  -10.5,\n",
       "         -9.5,   -8.5,   -7.5,   -6.5,   -5.5,   -4.5,   -3.5,   -2.5,\n",
       "         -1.5,   -0.5,    0.5,    1.5,    2.5,    3.5,    4.5,    5.5,\n",
       "          6.5,    7.5,    8.5,    9.5,   10.5,   11.5,   12.5,   13.5,\n",
       "         14.5,   15.5,   16.5,   17.5,   18.5,   19.5,   20.5,   21.5,\n",
       "         22.5,   23.5,   24.5,   25.5,   26.5,   27.5,   28.5,   29.5,\n",
       "         30.5,   31.5,   32.5,   33.5,   34.5,   35.5,   36.5,   37.5,\n",
       "         38.5,   39.5,   40.5,   41.5,   42.5,   43.5,   44.5,   45.5,\n",
       "         46.5,   47.5,   48.5,   49.5,   50.5,   51.5,   52.5,   53.5,\n",
       "         54.5,   55.5,   56.5,   57.5,   58.5,   59.5,   60.5,   61.5,\n",
       "         62.5,   63.5,   64.5,   65.5,   66.5,   67.5,   68.5,   69.5,\n",
       "         70.5,   71.5,   72.5,   73.5,   74.5,   75.5,   76.5,   77.5,\n",
       "         78.5,   79.5,   80.5,   81.5,   82.5,   83.5,   84.5,   85.5,\n",
       "         86.5,   87.5,   88.5,   89.5,   90.5,   91.5,   92.5,   93.5,\n",
       "         94.5,   95.5,   96.5,   97.5,   98.5,   99.5,  100.5,  101.5,\n",
       "        102.5,  103.5,  104.5,  105.5,  106.5,  107.5,  108.5,  109.5,\n",
       "        110.5,  111.5,  112.5,  113.5,  114.5,  115.5,  116.5,  117.5,\n",
       "        118.5,  119.5,  120.5,  121.5,  122.5,  123.5,  124.5,  125.5,\n",
       "        126.5,  127.5,  128.5,  129.5,  130.5,  131.5,  132.5,  133.5,\n",
       "        134.5,  135.5,  136.5,  137.5,  138.5,  139.5,  140.5,  141.5,\n",
       "        142.5,  143.5,  144.5,  145.5,  146.5,  147.5,  148.5,  149.5,\n",
       "        150.5,  151.5,  152.5,  153.5,  154.5,  155.5,  156.5,  157.5,\n",
       "        158.5,  159.5,  160.5,  161.5,  162.5,  163.5,  164.5,  165.5,\n",
       "        166.5,  167.5,  168.5,  169.5,  170.5,  171.5,  172.5,  173.5,\n",
       "        174.5,  175.5,  176.5,  177.5,  178.5,  179.5,  180.5,  181.5,\n",
       "        182.5,  183.5,  184.5,  185.5,  186.5,  187.5,  188.5,  189.5,\n",
       "        190.5,  191.5,  192.5,  193.5,  194.5,  195.5,  196.5,  197.5,\n",
       "        198.5,  199.5,  200.5,  201.5,  202.5,  203.5,  204.5,  205.5,\n",
       "        206.5,  207.5,  208.5,  209.5,  210.5,  211.5,  212.5,  213.5,\n",
       "        214.5,  215.5,  216.5,  217.5,  218.5,  219.5,  220.5,  221.5,\n",
       "        222.5,  223.5,  224.5,  225.5,  226.5,  227.5,  228.5,  229.5,\n",
       "        230.5,  231.5,  232.5,  233.5,  234.5,  235.5,  236.5,  237.5,\n",
       "        238.5,  239.5,  240.5,  241.5,  242.5,  243.5,  244.5,  245.5,\n",
       "        246.5,  247.5,  248.5,  249.5])"
      ]
     },
     "execution_count": 11,
     "metadata": {},
     "output_type": "execute_result"
    }
   ],
   "source": [
    "x-np.mean(x)"
   ]
  },
  {
   "cell_type": "code",
   "execution_count": 9,
   "metadata": {},
   "outputs": [
    {
     "data": {
      "text/plain": [
       "array([6.225025e+04, 6.175225e+04, 6.125625e+04, 6.076225e+04,\n",
       "       6.027025e+04, 5.978025e+04, 5.929225e+04, 5.880625e+04,\n",
       "       5.832225e+04, 5.784025e+04, 5.736025e+04, 5.688225e+04,\n",
       "       5.640625e+04, 5.593225e+04, 5.546025e+04, 5.499025e+04,\n",
       "       5.452225e+04, 5.405625e+04, 5.359225e+04, 5.313025e+04,\n",
       "       5.267025e+04, 5.221225e+04, 5.175625e+04, 5.130225e+04,\n",
       "       5.085025e+04, 5.040025e+04, 4.995225e+04, 4.950625e+04,\n",
       "       4.906225e+04, 4.862025e+04, 4.818025e+04, 4.774225e+04,\n",
       "       4.730625e+04, 4.687225e+04, 4.644025e+04, 4.601025e+04,\n",
       "       4.558225e+04, 4.515625e+04, 4.473225e+04, 4.431025e+04,\n",
       "       4.389025e+04, 4.347225e+04, 4.305625e+04, 4.264225e+04,\n",
       "       4.223025e+04, 4.182025e+04, 4.141225e+04, 4.100625e+04,\n",
       "       4.060225e+04, 4.020025e+04, 3.980025e+04, 3.940225e+04,\n",
       "       3.900625e+04, 3.861225e+04, 3.822025e+04, 3.783025e+04,\n",
       "       3.744225e+04, 3.705625e+04, 3.667225e+04, 3.629025e+04,\n",
       "       3.591025e+04, 3.553225e+04, 3.515625e+04, 3.478225e+04,\n",
       "       3.441025e+04, 3.404025e+04, 3.367225e+04, 3.330625e+04,\n",
       "       3.294225e+04, 3.258025e+04, 3.222025e+04, 3.186225e+04,\n",
       "       3.150625e+04, 3.115225e+04, 3.080025e+04, 3.045025e+04,\n",
       "       3.010225e+04, 2.975625e+04, 2.941225e+04, 2.907025e+04,\n",
       "       2.873025e+04, 2.839225e+04, 2.805625e+04, 2.772225e+04,\n",
       "       2.739025e+04, 2.706025e+04, 2.673225e+04, 2.640625e+04,\n",
       "       2.608225e+04, 2.576025e+04, 2.544025e+04, 2.512225e+04,\n",
       "       2.480625e+04, 2.449225e+04, 2.418025e+04, 2.387025e+04,\n",
       "       2.356225e+04, 2.325625e+04, 2.295225e+04, 2.265025e+04,\n",
       "       2.235025e+04, 2.205225e+04, 2.175625e+04, 2.146225e+04,\n",
       "       2.117025e+04, 2.088025e+04, 2.059225e+04, 2.030625e+04,\n",
       "       2.002225e+04, 1.974025e+04, 1.946025e+04, 1.918225e+04,\n",
       "       1.890625e+04, 1.863225e+04, 1.836025e+04, 1.809025e+04,\n",
       "       1.782225e+04, 1.755625e+04, 1.729225e+04, 1.703025e+04,\n",
       "       1.677025e+04, 1.651225e+04, 1.625625e+04, 1.600225e+04,\n",
       "       1.575025e+04, 1.550025e+04, 1.525225e+04, 1.500625e+04,\n",
       "       1.476225e+04, 1.452025e+04, 1.428025e+04, 1.404225e+04,\n",
       "       1.380625e+04, 1.357225e+04, 1.334025e+04, 1.311025e+04,\n",
       "       1.288225e+04, 1.265625e+04, 1.243225e+04, 1.221025e+04,\n",
       "       1.199025e+04, 1.177225e+04, 1.155625e+04, 1.134225e+04,\n",
       "       1.113025e+04, 1.092025e+04, 1.071225e+04, 1.050625e+04,\n",
       "       1.030225e+04, 1.010025e+04, 9.900250e+03, 9.702250e+03,\n",
       "       9.506250e+03, 9.312250e+03, 9.120250e+03, 8.930250e+03,\n",
       "       8.742250e+03, 8.556250e+03, 8.372250e+03, 8.190250e+03,\n",
       "       8.010250e+03, 7.832250e+03, 7.656250e+03, 7.482250e+03,\n",
       "       7.310250e+03, 7.140250e+03, 6.972250e+03, 6.806250e+03,\n",
       "       6.642250e+03, 6.480250e+03, 6.320250e+03, 6.162250e+03,\n",
       "       6.006250e+03, 5.852250e+03, 5.700250e+03, 5.550250e+03,\n",
       "       5.402250e+03, 5.256250e+03, 5.112250e+03, 4.970250e+03,\n",
       "       4.830250e+03, 4.692250e+03, 4.556250e+03, 4.422250e+03,\n",
       "       4.290250e+03, 4.160250e+03, 4.032250e+03, 3.906250e+03,\n",
       "       3.782250e+03, 3.660250e+03, 3.540250e+03, 3.422250e+03,\n",
       "       3.306250e+03, 3.192250e+03, 3.080250e+03, 2.970250e+03,\n",
       "       2.862250e+03, 2.756250e+03, 2.652250e+03, 2.550250e+03,\n",
       "       2.450250e+03, 2.352250e+03, 2.256250e+03, 2.162250e+03,\n",
       "       2.070250e+03, 1.980250e+03, 1.892250e+03, 1.806250e+03,\n",
       "       1.722250e+03, 1.640250e+03, 1.560250e+03, 1.482250e+03,\n",
       "       1.406250e+03, 1.332250e+03, 1.260250e+03, 1.190250e+03,\n",
       "       1.122250e+03, 1.056250e+03, 9.922500e+02, 9.302500e+02,\n",
       "       8.702500e+02, 8.122500e+02, 7.562500e+02, 7.022500e+02,\n",
       "       6.502500e+02, 6.002500e+02, 5.522500e+02, 5.062500e+02,\n",
       "       4.622500e+02, 4.202500e+02, 3.802500e+02, 3.422500e+02,\n",
       "       3.062500e+02, 2.722500e+02, 2.402500e+02, 2.102500e+02,\n",
       "       1.822500e+02, 1.562500e+02, 1.322500e+02, 1.102500e+02,\n",
       "       9.025000e+01, 7.225000e+01, 5.625000e+01, 4.225000e+01,\n",
       "       3.025000e+01, 2.025000e+01, 1.225000e+01, 6.250000e+00,\n",
       "       2.250000e+00, 2.500000e-01, 2.500000e-01, 2.250000e+00,\n",
       "       6.250000e+00, 1.225000e+01, 2.025000e+01, 3.025000e+01,\n",
       "       4.225000e+01, 5.625000e+01, 7.225000e+01, 9.025000e+01,\n",
       "       1.102500e+02, 1.322500e+02, 1.562500e+02, 1.822500e+02,\n",
       "       2.102500e+02, 2.402500e+02, 2.722500e+02, 3.062500e+02,\n",
       "       3.422500e+02, 3.802500e+02, 4.202500e+02, 4.622500e+02,\n",
       "       5.062500e+02, 5.522500e+02, 6.002500e+02, 6.502500e+02,\n",
       "       7.022500e+02, 7.562500e+02, 8.122500e+02, 8.702500e+02,\n",
       "       9.302500e+02, 9.922500e+02, 1.056250e+03, 1.122250e+03,\n",
       "       1.190250e+03, 1.260250e+03, 1.332250e+03, 1.406250e+03,\n",
       "       1.482250e+03, 1.560250e+03, 1.640250e+03, 1.722250e+03,\n",
       "       1.806250e+03, 1.892250e+03, 1.980250e+03, 2.070250e+03,\n",
       "       2.162250e+03, 2.256250e+03, 2.352250e+03, 2.450250e+03,\n",
       "       2.550250e+03, 2.652250e+03, 2.756250e+03, 2.862250e+03,\n",
       "       2.970250e+03, 3.080250e+03, 3.192250e+03, 3.306250e+03,\n",
       "       3.422250e+03, 3.540250e+03, 3.660250e+03, 3.782250e+03,\n",
       "       3.906250e+03, 4.032250e+03, 4.160250e+03, 4.290250e+03,\n",
       "       4.422250e+03, 4.556250e+03, 4.692250e+03, 4.830250e+03,\n",
       "       4.970250e+03, 5.112250e+03, 5.256250e+03, 5.402250e+03,\n",
       "       5.550250e+03, 5.700250e+03, 5.852250e+03, 6.006250e+03,\n",
       "       6.162250e+03, 6.320250e+03, 6.480250e+03, 6.642250e+03,\n",
       "       6.806250e+03, 6.972250e+03, 7.140250e+03, 7.310250e+03,\n",
       "       7.482250e+03, 7.656250e+03, 7.832250e+03, 8.010250e+03,\n",
       "       8.190250e+03, 8.372250e+03, 8.556250e+03, 8.742250e+03,\n",
       "       8.930250e+03, 9.120250e+03, 9.312250e+03, 9.506250e+03,\n",
       "       9.702250e+03, 9.900250e+03, 1.010025e+04, 1.030225e+04,\n",
       "       1.050625e+04, 1.071225e+04, 1.092025e+04, 1.113025e+04,\n",
       "       1.134225e+04, 1.155625e+04, 1.177225e+04, 1.199025e+04,\n",
       "       1.221025e+04, 1.243225e+04, 1.265625e+04, 1.288225e+04,\n",
       "       1.311025e+04, 1.334025e+04, 1.357225e+04, 1.380625e+04,\n",
       "       1.404225e+04, 1.428025e+04, 1.452025e+04, 1.476225e+04,\n",
       "       1.500625e+04, 1.525225e+04, 1.550025e+04, 1.575025e+04,\n",
       "       1.600225e+04, 1.625625e+04, 1.651225e+04, 1.677025e+04,\n",
       "       1.703025e+04, 1.729225e+04, 1.755625e+04, 1.782225e+04,\n",
       "       1.809025e+04, 1.836025e+04, 1.863225e+04, 1.890625e+04,\n",
       "       1.918225e+04, 1.946025e+04, 1.974025e+04, 2.002225e+04,\n",
       "       2.030625e+04, 2.059225e+04, 2.088025e+04, 2.117025e+04,\n",
       "       2.146225e+04, 2.175625e+04, 2.205225e+04, 2.235025e+04,\n",
       "       2.265025e+04, 2.295225e+04, 2.325625e+04, 2.356225e+04,\n",
       "       2.387025e+04, 2.418025e+04, 2.449225e+04, 2.480625e+04,\n",
       "       2.512225e+04, 2.544025e+04, 2.576025e+04, 2.608225e+04,\n",
       "       2.640625e+04, 2.673225e+04, 2.706025e+04, 2.739025e+04,\n",
       "       2.772225e+04, 2.805625e+04, 2.839225e+04, 2.873025e+04,\n",
       "       2.907025e+04, 2.941225e+04, 2.975625e+04, 3.010225e+04,\n",
       "       3.045025e+04, 3.080025e+04, 3.115225e+04, 3.150625e+04,\n",
       "       3.186225e+04, 3.222025e+04, 3.258025e+04, 3.294225e+04,\n",
       "       3.330625e+04, 3.367225e+04, 3.404025e+04, 3.441025e+04,\n",
       "       3.478225e+04, 3.515625e+04, 3.553225e+04, 3.591025e+04,\n",
       "       3.629025e+04, 3.667225e+04, 3.705625e+04, 3.744225e+04,\n",
       "       3.783025e+04, 3.822025e+04, 3.861225e+04, 3.900625e+04,\n",
       "       3.940225e+04, 3.980025e+04, 4.020025e+04, 4.060225e+04,\n",
       "       4.100625e+04, 4.141225e+04, 4.182025e+04, 4.223025e+04,\n",
       "       4.264225e+04, 4.305625e+04, 4.347225e+04, 4.389025e+04,\n",
       "       4.431025e+04, 4.473225e+04, 4.515625e+04, 4.558225e+04,\n",
       "       4.601025e+04, 4.644025e+04, 4.687225e+04, 4.730625e+04,\n",
       "       4.774225e+04, 4.818025e+04, 4.862025e+04, 4.906225e+04,\n",
       "       4.950625e+04, 4.995225e+04, 5.040025e+04, 5.085025e+04,\n",
       "       5.130225e+04, 5.175625e+04, 5.221225e+04, 5.267025e+04,\n",
       "       5.313025e+04, 5.359225e+04, 5.405625e+04, 5.452225e+04,\n",
       "       5.499025e+04, 5.546025e+04, 5.593225e+04, 5.640625e+04,\n",
       "       5.688225e+04, 5.736025e+04, 5.784025e+04, 5.832225e+04,\n",
       "       5.880625e+04, 5.929225e+04, 5.978025e+04, 6.027025e+04,\n",
       "       6.076225e+04, 6.125625e+04, 6.175225e+04, 6.225025e+04])"
      ]
     },
     "execution_count": 9,
     "metadata": {},
     "output_type": "execute_result"
    }
   ],
   "source": [
    "(x-np.mean(x))**2"
   ]
  },
  {
   "cell_type": "code",
   "execution_count": 12,
   "metadata": {},
   "outputs": [],
   "source": [
    "std = np.sqrt(np.mean((x-np.mean(x))**2))"
   ]
  },
  {
   "cell_type": "code",
   "execution_count": 13,
   "metadata": {},
   "outputs": [
    {
     "data": {
      "text/plain": [
       "144.33727862198316"
      ]
     },
     "execution_count": 13,
     "metadata": {},
     "output_type": "execute_result"
    }
   ],
   "source": [
    "std"
   ]
  },
  {
   "cell_type": "code",
   "execution_count": 14,
   "metadata": {},
   "outputs": [],
   "source": [
    "scaled = (x-x_mean)/std"
   ]
  },
  {
   "cell_type": "code",
   "execution_count": 17,
   "metadata": {},
   "outputs": [
    {
     "data": {
      "text/plain": [
       "array([-1.72859016, -1.72166195, -1.71473373, -1.70780551, -1.70087729,\n",
       "       -1.69394908, -1.68702086, -1.68009264, -1.67316443, -1.66623621,\n",
       "       -1.65930799, -1.65237978, -1.64545156, -1.63852334, -1.63159512,\n",
       "       -1.62466691, -1.61773869, -1.61081047, -1.60388226, -1.59695404,\n",
       "       -1.59002582, -1.5830976 , -1.57616939, -1.56924117, -1.56231295,\n",
       "       -1.55538474, -1.54845652, -1.5415283 , -1.53460008, -1.52767187,\n",
       "       -1.52074365, -1.51381543, -1.50688722, -1.499959  , -1.49303078,\n",
       "       -1.48610257, -1.47917435, -1.47224613, -1.46531791, -1.4583897 ,\n",
       "       -1.45146148, -1.44453326, -1.43760505, -1.43067683, -1.42374861,\n",
       "       -1.41682039, -1.40989218, -1.40296396, -1.39603574, -1.38910753,\n",
       "       -1.38217931, -1.37525109, -1.36832287, -1.36139466, -1.35446644,\n",
       "       -1.34753822, -1.34061001, -1.33368179, -1.32675357, -1.31982536,\n",
       "       -1.31289714, -1.30596892, -1.2990407 , -1.29211249, -1.28518427,\n",
       "       -1.27825605, -1.27132784, -1.26439962, -1.2574714 , -1.25054318,\n",
       "       -1.24361497, -1.23668675, -1.22975853, -1.22283032, -1.2159021 ,\n",
       "       -1.20897388, -1.20204566, -1.19511745, -1.18818923, -1.18126101,\n",
       "       -1.1743328 , -1.16740458, -1.16047636, -1.15354814, -1.14661993,\n",
       "       -1.13969171, -1.13276349, -1.12583528, -1.11890706, -1.11197884,\n",
       "       -1.10505063, -1.09812241, -1.09119419, -1.08426597, -1.07733776,\n",
       "       -1.07040954, -1.06348132, -1.05655311, -1.04962489, -1.04269667,\n",
       "       -1.03576845, -1.02884024, -1.02191202, -1.0149838 , -1.00805559,\n",
       "       -1.00112737, -0.99419915, -0.98727093, -0.98034272, -0.9734145 ,\n",
       "       -0.96648628, -0.95955807, -0.95262985, -0.94570163, -0.93877342,\n",
       "       -0.9318452 , -0.92491698, -0.91798876, -0.91106055, -0.90413233,\n",
       "       -0.89720411, -0.8902759 , -0.88334768, -0.87641946, -0.86949124,\n",
       "       -0.86256303, -0.85563481, -0.84870659, -0.84177838, -0.83485016,\n",
       "       -0.82792194, -0.82099372, -0.81406551, -0.80713729, -0.80020907,\n",
       "       -0.79328086, -0.78635264, -0.77942442, -0.77249621, -0.76556799,\n",
       "       -0.75863977, -0.75171155, -0.74478334, -0.73785512, -0.7309269 ,\n",
       "       -0.72399869, -0.71707047, -0.71014225, -0.70321403, -0.69628582,\n",
       "       -0.6893576 , -0.68242938, -0.67550117, -0.66857295, -0.66164473,\n",
       "       -0.65471651, -0.6477883 , -0.64086008, -0.63393186, -0.62700365,\n",
       "       -0.62007543, -0.61314721, -0.606219  , -0.59929078, -0.59236256,\n",
       "       -0.58543434, -0.57850613, -0.57157791, -0.56464969, -0.55772148,\n",
       "       -0.55079326, -0.54386504, -0.53693682, -0.53000861, -0.52308039,\n",
       "       -0.51615217, -0.50922396, -0.50229574, -0.49536752, -0.4884393 ,\n",
       "       -0.48151109, -0.47458287, -0.46765465, -0.46072644, -0.45379822,\n",
       "       -0.44687   , -0.43994179, -0.43301357, -0.42608535, -0.41915713,\n",
       "       -0.41222892, -0.4053007 , -0.39837248, -0.39144427, -0.38451605,\n",
       "       -0.37758783, -0.37065961, -0.3637314 , -0.35680318, -0.34987496,\n",
       "       -0.34294675, -0.33601853, -0.32909031, -0.32216209, -0.31523388,\n",
       "       -0.30830566, -0.30137744, -0.29444923, -0.28752101, -0.28059279,\n",
       "       -0.27366457, -0.26673636, -0.25980814, -0.25287992, -0.24595171,\n",
       "       -0.23902349, -0.23209527, -0.22516706, -0.21823884, -0.21131062,\n",
       "       -0.2043824 , -0.19745419, -0.19052597, -0.18359775, -0.17666954,\n",
       "       -0.16974132, -0.1628131 , -0.15588488, -0.14895667, -0.14202845,\n",
       "       -0.13510023, -0.12817202, -0.1212438 , -0.11431558, -0.10738736,\n",
       "       -0.10045915, -0.09353093, -0.08660271, -0.0796745 , -0.07274628,\n",
       "       -0.06581806, -0.05888985, -0.05196163, -0.04503341, -0.03810519,\n",
       "       -0.03117698, -0.02424876, -0.01732054, -0.01039233, -0.00346411,\n",
       "        0.00346411,  0.01039233,  0.01732054,  0.02424876,  0.03117698,\n",
       "        0.03810519,  0.04503341,  0.05196163,  0.05888985,  0.06581806,\n",
       "        0.07274628,  0.0796745 ,  0.08660271,  0.09353093,  0.10045915,\n",
       "        0.10738736,  0.11431558,  0.1212438 ,  0.12817202,  0.13510023,\n",
       "        0.14202845,  0.14895667,  0.15588488,  0.1628131 ,  0.16974132,\n",
       "        0.17666954,  0.18359775,  0.19052597,  0.19745419,  0.2043824 ,\n",
       "        0.21131062,  0.21823884,  0.22516706,  0.23209527,  0.23902349,\n",
       "        0.24595171,  0.25287992,  0.25980814,  0.26673636,  0.27366457,\n",
       "        0.28059279,  0.28752101,  0.29444923,  0.30137744,  0.30830566,\n",
       "        0.31523388,  0.32216209,  0.32909031,  0.33601853,  0.34294675,\n",
       "        0.34987496,  0.35680318,  0.3637314 ,  0.37065961,  0.37758783,\n",
       "        0.38451605,  0.39144427,  0.39837248,  0.4053007 ,  0.41222892,\n",
       "        0.41915713,  0.42608535,  0.43301357,  0.43994179,  0.44687   ,\n",
       "        0.45379822,  0.46072644,  0.46765465,  0.47458287,  0.48151109,\n",
       "        0.4884393 ,  0.49536752,  0.50229574,  0.50922396,  0.51615217,\n",
       "        0.52308039,  0.53000861,  0.53693682,  0.54386504,  0.55079326,\n",
       "        0.55772148,  0.56464969,  0.57157791,  0.57850613,  0.58543434,\n",
       "        0.59236256,  0.59929078,  0.606219  ,  0.61314721,  0.62007543,\n",
       "        0.62700365,  0.63393186,  0.64086008,  0.6477883 ,  0.65471651,\n",
       "        0.66164473,  0.66857295,  0.67550117,  0.68242938,  0.6893576 ,\n",
       "        0.69628582,  0.70321403,  0.71014225,  0.71707047,  0.72399869,\n",
       "        0.7309269 ,  0.73785512,  0.74478334,  0.75171155,  0.75863977,\n",
       "        0.76556799,  0.77249621,  0.77942442,  0.78635264,  0.79328086,\n",
       "        0.80020907,  0.80713729,  0.81406551,  0.82099372,  0.82792194,\n",
       "        0.83485016,  0.84177838,  0.84870659,  0.85563481,  0.86256303,\n",
       "        0.86949124,  0.87641946,  0.88334768,  0.8902759 ,  0.89720411,\n",
       "        0.90413233,  0.91106055,  0.91798876,  0.92491698,  0.9318452 ,\n",
       "        0.93877342,  0.94570163,  0.95262985,  0.95955807,  0.96648628,\n",
       "        0.9734145 ,  0.98034272,  0.98727093,  0.99419915,  1.00112737,\n",
       "        1.00805559,  1.0149838 ,  1.02191202,  1.02884024,  1.03576845,\n",
       "        1.04269667,  1.04962489,  1.05655311,  1.06348132,  1.07040954,\n",
       "        1.07733776,  1.08426597,  1.09119419,  1.09812241,  1.10505063,\n",
       "        1.11197884,  1.11890706,  1.12583528,  1.13276349,  1.13969171,\n",
       "        1.14661993,  1.15354814,  1.16047636,  1.16740458,  1.1743328 ,\n",
       "        1.18126101,  1.18818923,  1.19511745,  1.20204566,  1.20897388,\n",
       "        1.2159021 ,  1.22283032,  1.22975853,  1.23668675,  1.24361497,\n",
       "        1.25054318,  1.2574714 ,  1.26439962,  1.27132784,  1.27825605,\n",
       "        1.28518427,  1.29211249,  1.2990407 ,  1.30596892,  1.31289714,\n",
       "        1.31982536,  1.32675357,  1.33368179,  1.34061001,  1.34753822,\n",
       "        1.35446644,  1.36139466,  1.36832287,  1.37525109,  1.38217931,\n",
       "        1.38910753,  1.39603574,  1.40296396,  1.40989218,  1.41682039,\n",
       "        1.42374861,  1.43067683,  1.43760505,  1.44453326,  1.45146148,\n",
       "        1.4583897 ,  1.46531791,  1.47224613,  1.47917435,  1.48610257,\n",
       "        1.49303078,  1.499959  ,  1.50688722,  1.51381543,  1.52074365,\n",
       "        1.52767187,  1.53460008,  1.5415283 ,  1.54845652,  1.55538474,\n",
       "        1.56231295,  1.56924117,  1.57616939,  1.5830976 ,  1.59002582,\n",
       "        1.59695404,  1.60388226,  1.61081047,  1.61773869,  1.62466691,\n",
       "        1.63159512,  1.63852334,  1.64545156,  1.65237978,  1.65930799,\n",
       "        1.66623621,  1.67316443,  1.68009264,  1.68702086,  1.69394908,\n",
       "        1.70087729,  1.70780551,  1.71473373,  1.72166195,  1.72859016])"
      ]
     },
     "execution_count": 17,
     "metadata": {},
     "output_type": "execute_result"
    }
   ],
   "source": [
    "scaled"
   ]
  },
  {
   "cell_type": "code",
   "execution_count": 15,
   "metadata": {},
   "outputs": [],
   "source": [
    "import matplotlib.pyplot as plt"
   ]
  },
  {
   "cell_type": "code",
   "execution_count": 16,
   "metadata": {},
   "outputs": [
    {
     "data": {
      "text/plain": [
       "[<matplotlib.lines.Line2D at 0x19fcf23ef00>]"
      ]
     },
     "execution_count": 16,
     "metadata": {},
     "output_type": "execute_result"
    },
    {
     "data": {
      "image/png": "[encoded data removed]",
      "text/plain": [
       "<Figure size 640x480 with 1 Axes>"
      ]
     },
     "metadata": {},
     "output_type": "display_data"
    }
   ],
   "source": [
    "plt.plot(scaled)"
   ]
  }
 ],
 "metadata": {
  "kernelspec": {
   "display_name": "Python 3",
   "language": "python",
   "name": "python3"
  },
  "language_info": {
   "codemirror_mode": {
    "name": "ipython",
    "version": 3
   },
   "file_extension": ".py",
   "mimetype": "text/x-python",
   "name": "python",
   "nbconvert_exporter": "python",
   "pygments_lexer": "ipython3",
   "version": "3.12.1"
  }
 },
 "nbformat": 4,
 "nbformat_minor": 2
}
