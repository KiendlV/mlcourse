{
 "cells": [
  {
   "cell_type": "code",
   "execution_count": null,
   "metadata": {},
   "outputs": [],
   "source": [
    "def get_pairs(n = 100):\n",
    "    from random import randint\n",
    "    i = 0\n",
    "    tuples = []\n",
    "    while i < 100:\n",
    "        x = df.columns[randint(0,999)]\n",
    "        y = df.columns[randint(0,999)]\n",
    "        while x == y or (x,y) in tuples or (y,x) in tuples:\n",
    "            y = df.columns[randint(0,999)]\n",
    "        tuples.append((x,y))\n",
    "        i+=1\n",
    "    return tuples"
   ]
  },
  {
   "cell_type": "code",
   "execution_count": null,
   "metadata": {},
   "outputs": [],
   "source": [
    "fig, axs = plt.subplots(10,10, figsize = (35,35))\n",
    "i = 0\n",
    "for rows in axs:\n",
    "    for ax in rows:\n",
    "        ax.scatter(df[pairs[i][0]],df[pairs[i][1]], color = \"#C00000\")\n",
    "        ax.set_xlabel(pairs[i][0])\n",
    "        ax.set_ylabel(pairs[i][1])\n",
    "        i+=1"
   ]
  },
  {
   "cell_type": "code",
   "execution_count": null,
   "metadata": {},
   "outputs": [],
   "source": [
    "corr = df.corr()"
   ]
  },
  {
   "cell_type": "code",
   "execution_count": null,
   "metadata": {},
   "outputs": [],
   "source": [
    "mask = (abs(corr) > 0.5) & (abs(corr) != 1)\n",
    "corr.where(mask).stack().sort_values()"
   ]
  },
  {
   "cell_type": "code",
   "execution_count": null,
   "metadata": {},
   "outputs": [],
   "source": [
    "import plotly.express as px"
   ]
  },
  {
   "cell_type": "code",
   "execution_count": null,
   "metadata": {},
   "outputs": [],
   "source": [
    "fig = px.scatter_3d(df_pca_3, x = 'principal_component_1', y = 'principal_component_2', z = 'principal_component_3').update_traces(marker = dict(color = \"#C00000\"))\n",
    "fig.show()"
   ]
  }
 ],
 "metadata": {
  "language_info": {
   "name": "python"
  }
 },
 "nbformat": 4,
 "nbformat_minor": 2
}
